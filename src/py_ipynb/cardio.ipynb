{
 "cells": [
  {
   "cell_type": "code",
   "execution_count": null,
   "metadata": {},
   "outputs": [],
   "source": [
    "import numpy as np\n",
    "import pandas as pd\n",
    "import matplotlib.pyplot as plt\n",
    "import seaborn as sns\n",
    "import sklearn.preprocessing"
   ]
  },
  {
   "cell_type": "code",
   "execution_count": null,
   "metadata": {},
   "outputs": [],
   "source": [
    "df = pd.read_csv('/content/drive/MyDrive/Colab Notebooks/cardio_train.csv', delimiter=';',index_col='id')\n",
    "df.head()"
   ]
  },
  {
   "cell_type": "code",
   "execution_count": null,
   "metadata": {},
   "outputs": [],
   "source": [
    "df.describe()"
   ]
  },
  {
   "cell_type": "code",
   "execution_count": null,
   "metadata": {},
   "outputs": [],
   "source": [
    "df.columns"
   ]
  },
  {
   "cell_type": "code",
   "execution_count": null,
   "metadata": {},
   "outputs": [],
   "source": [
    "df.loc[df.ap_hi>500].describe()"
   ]
  },
  {
   "cell_type": "code",
   "execution_count": null,
   "metadata": {},
   "outputs": [],
   "source": [
    "bp_data = df.drop(df[(df['ap_hi'] > 500) | (df['ap_hi'] < 0) | (df['ap_lo'] > 300) | (df['ap_lo'] < 0)].index)"
   ]
  },
  {
   "cell_type": "code",
   "execution_count": null,
   "metadata": {},
   "outputs": [],
   "source": [
    "bp_data.loc[:, 'age'] = bp_data['age'] / 365.25\n",
    "bp_data.describe()"
   ]
  },
  {
   "cell_type": "code",
   "execution_count": null,
   "metadata": {},
   "outputs": [],
   "source": [
    "bp_data['bmi'] = bp_data['weight'] / (bp_data['height'] / 100) ** 2\n",
    "bp_data.describe()"
   ]
  },
  {
   "cell_type": "code",
   "execution_count": null,
   "metadata": {},
   "outputs": [],
   "source": [
    "bp_data.drop(['height', 'weight'], axis=1, inplace=True)\n",
    "bp_data = bp_data[['age', 'bmi', 'gender', 'ap_hi', 'ap_lo', 'cholesterol', 'gluc', 'smoke', 'alco', 'active', 'cardio']]\n",
    "\n",
    "bp_data.describe()"
   ]
  },
  {
   "cell_type": "code",
   "execution_count": null,
   "metadata": {},
   "outputs": [],
   "source": [
    "from sklearn.model_selection import train_test_split\n",
    "\n",
    "X = bp_data.drop('cardio', axis=1)  # Features\n",
    "y = bp_data['cardio']  # Target\n",
    "\n",
    "X_train, X_test, y_train, y_test = train_test_split(X, y, test_size=0.2, random_state=42)"
   ]
  },
  {
   "cell_type": "code",
   "execution_count": null,
   "metadata": {},
   "outputs": [],
   "source": [
    "from sklearn.ensemble import RandomForestClassifier\n",
    "from sklearn.svm import SVC\n",
    "from sklearn.ensemble import GradientBoostingClassifier"
   ]
  },
  {
   "cell_type": "code",
   "execution_count": null,
   "metadata": {},
   "outputs": [],
   "source": [
    "# Random forest model\n",
    "rf = RandomForestClassifier()\n",
    "rf.fit(X_train, y_train)\n",
    "y_pred_rf = rf.predict(X_test)"
   ]
  },
  {
   "cell_type": "code",
   "execution_count": null,
   "metadata": {},
   "outputs": [],
   "source": [
    "# SVM model\n",
    "svm = SVC()\n",
    "svm.fit(X_train, y_train)\n",
    "y_pred_svm = svm.predict(X_test)"
   ]
  },
  {
   "cell_type": "code",
   "execution_count": null,
   "metadata": {},
   "outputs": [],
   "source": [
    "# Gradient boosting machine model\n",
    "gbm = GradientBoostingClassifier()\n",
    "gbm.fit(X_train, y_train)\n",
    "y_pred_gbm = gbm.predict(X_test)"
   ]
  },
  {
   "cell_type": "code",
   "execution_count": null,
   "metadata": {},
   "outputs": [],
   "source": [
    "from sklearn.metrics import accuracy_score, precision_score, recall_score, f1_score"
   ]
  },
  {
   "cell_type": "code",
   "execution_count": null,
   "metadata": {},
   "outputs": [],
   "source": [
    "acc = accuracy_score(y_test, y_pred_rf)\n",
    "print('Random forest accuracy:', acc)\n",
    "\n",
    "acc = accuracy_score(y_test, y_pred_svm)\n",
    "print('SVM accuracy:', acc)\n",
    "\n",
    "acc = accuracy_score(y_test, y_pred_gbm)\n",
    "print('Gradient boosting machine accuracy:', acc)"
   ]
  },
  {
   "cell_type": "code",
   "execution_count": null,
   "metadata": {},
   "outputs": [],
   "source": [
    "# Accuracy\n",
    "fig, ax = plt.subplots()\n",
    "\n",
    "sns.barplot(x=['Random Forest', 'SVM', 'Gradient Boosting Machine'], y=[accuracy_score(y_test, y_pred_rf), accuracy_score(y_test, y_pred_svm), accuracy_score(y_test, y_pred_gbm)])\n",
    "\n",
    "ax.set_title('Accuracy Comparison')\n",
    "ax.set_xlabel('Model')\n",
    "ax.set_ylabel('Accuracy Score')\n",
    "plt.show()"
   ]
  },
  {
   "cell_type": "code",
   "execution_count": null,
   "metadata": {},
   "outputs": [],
   "source": [
    "prec = precision_score(y_test, y_pred_rf)\n",
    "print('Random forest precision:', prec)\n",
    "\n",
    "prec = precision_score(y_test, y_pred_svm)\n",
    "print('SVM precision:', prec)\n",
    "\n",
    "prec = precision_score(y_test, y_pred_gbm)\n",
    "print('Gradient boosting machine precision:', prec)"
   ]
  },
  {
   "cell_type": "code",
   "execution_count": null,
   "metadata": {},
   "outputs": [],
   "source": [
    "# Precision\n",
    "fig, ax = plt.subplots()\n",
    "\n",
    "sns.barplot(x=['Random Forest', 'SVM', 'Gradient Boosting Machine'], y=[precision_score(y_test, y_pred_rf), precision_score(y_test, y_pred_svm), precision_score(y_test, y_pred_gbm)])\n",
    "\n",
    "ax.set_title('Precision Comparison')\n",
    "ax.set_xlabel('Model')\n",
    "ax.set_ylabel('Precision Score')\n",
    "plt.show()"
   ]
  },
  {
   "cell_type": "code",
   "execution_count": null,
   "metadata": {},
   "outputs": [],
   "source": [
    "rec = recall_score(y_test, y_pred_rf)\n",
    "print('Random forest recall:', rec)\n",
    "\n",
    "rec = recall_score(y_test, y_pred_svm)\n",
    "print('SVM recall:', rec)\n",
    "\n",
    "rec = recall_score(y_test, y_pred_gbm)\n",
    "print('Gradient boosting machine recall:', rec)"
   ]
  },
  {
   "cell_type": "code",
   "execution_count": null,
   "metadata": {},
   "outputs": [],
   "source": [
    "# Recall\n",
    "fig, ax = plt.subplots()\n",
    "\n",
    "sns.barplot(x=['Random Forest', 'SVM', 'Gradient Boosting Machine'], y=[recall_score(y_test, y_pred_rf), recall_score(y_test, y_pred_svm), recall_score(y_test, y_pred_gbm)])\n",
    "\n",
    "ax.set_title('Recall Comparison')\n",
    "ax.set_xlabel('Model')\n",
    "ax.set_ylabel('Recall Score')\n",
    "plt.show()"
   ]
  },
  {
   "cell_type": "code",
   "execution_count": null,
   "metadata": {},
   "outputs": [],
   "source": [
    "f1 = f1_score(y_test, y_pred_rf)\n",
    "print('Random forest F1-score:', f1)\n",
    "\n",
    "f1 = f1_score(y_test, y_pred_svm)\n",
    "print('SVM F1-score:', f1)\n",
    "\n",
    "f1 = f1_score(y_test, y_pred_gbm)\n",
    "print('Gradient boosting machine F1-score:', f1)"
   ]
  },
  {
   "cell_type": "code",
   "execution_count": null,
   "metadata": {},
   "outputs": [],
   "source": [
    "# F1-score\n",
    "fig, ax = plt.subplots()\n",
    "\n",
    "sns.barplot(x=['Random Forest', 'SVM', 'Gradient Boosting Machine'], y=[f1_score(y_test, y_pred_rf), f1_score(y_test, y_pred_svm), f1_score(y_test, y_pred_gbm)])\n",
    "\n",
    "ax.set_title('F1-score Comparison')\n",
    "ax.set_xlabel('Model')\n",
    "ax.set_ylabel('F1-Score')\n",
    "plt.show()"
   ]
  },
  {
   "cell_type": "code",
   "execution_count": null,
   "metadata": {},
   "outputs": [],
   "source": [
    "import matplotlib.pyplot as plt\n",
    "import seaborn as sns\n",
    "\n",
    "correlation_matrix = bp_data.corr()\n",
    "\n",
    "plt.figure(figsize=(12, 6))\n",
    "sns.heatmap(correlation_matrix, annot=True, fmt='.2f', cmap='coolwarm', vmin=-1, vmax=1, linecolor='white', linewidths=0.5)\n",
    "\n",
    "# Adjust the position of the y spine\n",
    "ax.spines['left'].set_position('zero')\n",
    "ax.spines['left'].set_linewidth(0.5)\n",
    "\n",
    "# Set the tick labels\n",
    "ax.set_yticks(range(len(correlation_matrix.columns)), correlation_matrix.columns, va='center', rotation=45)\n",
    "\n",
    "plt.suptitle('Correlation Heatmap', fontsize=12)\n",
    "plt.tight_layout()\n",
    "plt.show()"
   ]
  }
 ],
 "metadata": {
  "language_info": {
   "name": "python"
  }
 },
 "nbformat": 4,
 "nbformat_minor": 2
}
