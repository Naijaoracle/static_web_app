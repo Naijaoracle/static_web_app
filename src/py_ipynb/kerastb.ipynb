{
  "nbformat": 4,
  "nbformat_minor": 0,
  "metadata": {
    "colab": {
      "provenance": []
    },
    "kernelspec": {
      "name": "python3",
      "display_name": "Python 3"
    },
    "language_info": {
      "name": "python"
    }
  },
  "cells": [
    {
      "cell_type": "code",
      "execution_count": 1,
      "metadata": {
        "colab": {
          "base_uri": "https://localhost:8080/"
        },
        "id": "21lVAotp3DqL",
        "outputId": "93a5a027-6e6b-4091-c1ba-74e605333009"
      },
      "outputs": [
        {
          "output_type": "stream",
          "name": "stdout",
          "text": [
            "Drive already mounted at /content/drive; to attempt to forcibly remount, call drive.mount(\"/content/drive\", force_remount=True).\n"
          ]
        }
      ],
      "source": [
        "#importing the necessary libraries\n",
        "import pandas as pd\n",
        "import os\n",
        "import cv2\n",
        "import numpy as np\n",
        "from sklearn.model_selection import train_test_split\n",
        "from google.colab import drive\n",
        "drive.mount('/content/drive')"
      ]
    },
    {
      "cell_type": "code",
      "source": [
        "csv_file_path = '/content/drive/MyDrive/Projects /colab et al/tb_labels.csv'"
      ],
      "metadata": {
        "id": "oprzNmRe6mjb"
      },
      "execution_count": 18,
      "outputs": []
    },
    {
      "cell_type": "code",
      "source": [
        "#x-rays\n",
        "image_dir = '/content/drive/MyDrive/Projects /colab et al/TB_CXR_images'"
      ],
      "metadata": {
        "id": "DfOMRtRy6zUs"
      },
      "execution_count": 19,
      "outputs": []
    },
    {
      "cell_type": "code",
      "source": [
        "#x-ray labels\n",
        "data = pd.read_csv('/content/drive/MyDrive/Projects /colab et al/tb_labels.csv')"
      ],
      "metadata": {
        "id": "S5JOK5lJ66lZ"
      },
      "execution_count": 20,
      "outputs": []
    },
    {
      "cell_type": "code",
      "source": [
        "data.head()"
      ],
      "metadata": {
        "colab": {
          "base_uri": "https://localhost:8080/",
          "height": 206
        },
        "id": "Bz2Sdxp16_ug",
        "outputId": "00dedafd-a145-423f-d831-39c60f54f8f5"
      },
      "execution_count": 21,
      "outputs": [
        {
          "output_type": "execute_result",
          "data": {
            "text/plain": [
              "            filename  label\n",
              "0  MCUCXR_0001_0.png      0\n",
              "1  MCUCXR_0002_0.png      0\n",
              "2  MCUCXR_0003_0.png      0\n",
              "3  MCUCXR_0004_0.png      0\n",
              "4  MCUCXR_0005_0.png      0"
            ],
            "text/html": [
              "\n",
              "  <div id=\"df-bb85dbbc-7de9-4da8-bcd5-9446fd790323\" class=\"colab-df-container\">\n",
              "    <div>\n",
              "<style scoped>\n",
              "    .dataframe tbody tr th:only-of-type {\n",
              "        vertical-align: middle;\n",
              "    }\n",
              "\n",
              "    .dataframe tbody tr th {\n",
              "        vertical-align: top;\n",
              "    }\n",
              "\n",
              "    .dataframe thead th {\n",
              "        text-align: right;\n",
              "    }\n",
              "</style>\n",
              "<table border=\"1\" class=\"dataframe\">\n",
              "  <thead>\n",
              "    <tr style=\"text-align: right;\">\n",
              "      <th></th>\n",
              "      <th>filename</th>\n",
              "      <th>label</th>\n",
              "    </tr>\n",
              "  </thead>\n",
              "  <tbody>\n",
              "    <tr>\n",
              "      <th>0</th>\n",
              "      <td>MCUCXR_0001_0.png</td>\n",
              "      <td>0</td>\n",
              "    </tr>\n",
              "    <tr>\n",
              "      <th>1</th>\n",
              "      <td>MCUCXR_0002_0.png</td>\n",
              "      <td>0</td>\n",
              "    </tr>\n",
              "    <tr>\n",
              "      <th>2</th>\n",
              "      <td>MCUCXR_0003_0.png</td>\n",
              "      <td>0</td>\n",
              "    </tr>\n",
              "    <tr>\n",
              "      <th>3</th>\n",
              "      <td>MCUCXR_0004_0.png</td>\n",
              "      <td>0</td>\n",
              "    </tr>\n",
              "    <tr>\n",
              "      <th>4</th>\n",
              "      <td>MCUCXR_0005_0.png</td>\n",
              "      <td>0</td>\n",
              "    </tr>\n",
              "  </tbody>\n",
              "</table>\n",
              "</div>\n",
              "    <div class=\"colab-df-buttons\">\n",
              "\n",
              "  <div class=\"colab-df-container\">\n",
              "    <button class=\"colab-df-convert\" onclick=\"convertToInteractive('df-bb85dbbc-7de9-4da8-bcd5-9446fd790323')\"\n",
              "            title=\"Convert this dataframe to an interactive table.\"\n",
              "            style=\"display:none;\">\n",
              "\n",
              "  <svg xmlns=\"http://www.w3.org/2000/svg\" height=\"24px\" viewBox=\"0 -960 960 960\">\n",
              "    <path d=\"M120-120v-720h720v720H120Zm60-500h600v-160H180v160Zm220 220h160v-160H400v160Zm0 220h160v-160H400v160ZM180-400h160v-160H180v160Zm440 0h160v-160H620v160ZM180-180h160v-160H180v160Zm440 0h160v-160H620v160Z\"/>\n",
              "  </svg>\n",
              "    </button>\n",
              "\n",
              "  <style>\n",
              "    .colab-df-container {\n",
              "      display:flex;\n",
              "      gap: 12px;\n",
              "    }\n",
              "\n",
              "    .colab-df-convert {\n",
              "      background-color: #E8F0FE;\n",
              "      border: none;\n",
              "      border-radius: 50%;\n",
              "      cursor: pointer;\n",
              "      display: none;\n",
              "      fill: #1967D2;\n",
              "      height: 32px;\n",
              "      padding: 0 0 0 0;\n",
              "      width: 32px;\n",
              "    }\n",
              "\n",
              "    .colab-df-convert:hover {\n",
              "      background-color: #E2EBFA;\n",
              "      box-shadow: 0px 1px 2px rgba(60, 64, 67, 0.3), 0px 1px 3px 1px rgba(60, 64, 67, 0.15);\n",
              "      fill: #174EA6;\n",
              "    }\n",
              "\n",
              "    .colab-df-buttons div {\n",
              "      margin-bottom: 4px;\n",
              "    }\n",
              "\n",
              "    [theme=dark] .colab-df-convert {\n",
              "      background-color: #3B4455;\n",
              "      fill: #D2E3FC;\n",
              "    }\n",
              "\n",
              "    [theme=dark] .colab-df-convert:hover {\n",
              "      background-color: #434B5C;\n",
              "      box-shadow: 0px 1px 3px 1px rgba(0, 0, 0, 0.15);\n",
              "      filter: drop-shadow(0px 1px 2px rgba(0, 0, 0, 0.3));\n",
              "      fill: #FFFFFF;\n",
              "    }\n",
              "  </style>\n",
              "\n",
              "    <script>\n",
              "      const buttonEl =\n",
              "        document.querySelector('#df-bb85dbbc-7de9-4da8-bcd5-9446fd790323 button.colab-df-convert');\n",
              "      buttonEl.style.display =\n",
              "        google.colab.kernel.accessAllowed ? 'block' : 'none';\n",
              "\n",
              "      async function convertToInteractive(key) {\n",
              "        const element = document.querySelector('#df-bb85dbbc-7de9-4da8-bcd5-9446fd790323');\n",
              "        const dataTable =\n",
              "          await google.colab.kernel.invokeFunction('convertToInteractive',\n",
              "                                                    [key], {});\n",
              "        if (!dataTable) return;\n",
              "\n",
              "        const docLinkHtml = 'Like what you see? Visit the ' +\n",
              "          '<a target=\"_blank\" href=https://colab.research.google.com/notebooks/data_table.ipynb>data table notebook</a>'\n",
              "          + ' to learn more about interactive tables.';\n",
              "        element.innerHTML = '';\n",
              "        dataTable['output_type'] = 'display_data';\n",
              "        await google.colab.output.renderOutput(dataTable, element);\n",
              "        const docLink = document.createElement('div');\n",
              "        docLink.innerHTML = docLinkHtml;\n",
              "        element.appendChild(docLink);\n",
              "      }\n",
              "    </script>\n",
              "  </div>\n",
              "\n",
              "\n",
              "<div id=\"df-f6b6071e-c86a-405c-b432-d8da8c77c57f\">\n",
              "  <button class=\"colab-df-quickchart\" onclick=\"quickchart('df-f6b6071e-c86a-405c-b432-d8da8c77c57f')\"\n",
              "            title=\"Suggest charts\"\n",
              "            style=\"display:none;\">\n",
              "\n",
              "<svg xmlns=\"http://www.w3.org/2000/svg\" height=\"24px\"viewBox=\"0 0 24 24\"\n",
              "     width=\"24px\">\n",
              "    <g>\n",
              "        <path d=\"M19 3H5c-1.1 0-2 .9-2 2v14c0 1.1.9 2 2 2h14c1.1 0 2-.9 2-2V5c0-1.1-.9-2-2-2zM9 17H7v-7h2v7zm4 0h-2V7h2v10zm4 0h-2v-4h2v4z\"/>\n",
              "    </g>\n",
              "</svg>\n",
              "  </button>\n",
              "\n",
              "<style>\n",
              "  .colab-df-quickchart {\n",
              "      --bg-color: #E8F0FE;\n",
              "      --fill-color: #1967D2;\n",
              "      --hover-bg-color: #E2EBFA;\n",
              "      --hover-fill-color: #174EA6;\n",
              "      --disabled-fill-color: #AAA;\n",
              "      --disabled-bg-color: #DDD;\n",
              "  }\n",
              "\n",
              "  [theme=dark] .colab-df-quickchart {\n",
              "      --bg-color: #3B4455;\n",
              "      --fill-color: #D2E3FC;\n",
              "      --hover-bg-color: #434B5C;\n",
              "      --hover-fill-color: #FFFFFF;\n",
              "      --disabled-bg-color: #3B4455;\n",
              "      --disabled-fill-color: #666;\n",
              "  }\n",
              "\n",
              "  .colab-df-quickchart {\n",
              "    background-color: var(--bg-color);\n",
              "    border: none;\n",
              "    border-radius: 50%;\n",
              "    cursor: pointer;\n",
              "    display: none;\n",
              "    fill: var(--fill-color);\n",
              "    height: 32px;\n",
              "    padding: 0;\n",
              "    width: 32px;\n",
              "  }\n",
              "\n",
              "  .colab-df-quickchart:hover {\n",
              "    background-color: var(--hover-bg-color);\n",
              "    box-shadow: 0 1px 2px rgba(60, 64, 67, 0.3), 0 1px 3px 1px rgba(60, 64, 67, 0.15);\n",
              "    fill: var(--button-hover-fill-color);\n",
              "  }\n",
              "\n",
              "  .colab-df-quickchart-complete:disabled,\n",
              "  .colab-df-quickchart-complete:disabled:hover {\n",
              "    background-color: var(--disabled-bg-color);\n",
              "    fill: var(--disabled-fill-color);\n",
              "    box-shadow: none;\n",
              "  }\n",
              "\n",
              "  .colab-df-spinner {\n",
              "    border: 2px solid var(--fill-color);\n",
              "    border-color: transparent;\n",
              "    border-bottom-color: var(--fill-color);\n",
              "    animation:\n",
              "      spin 1s steps(1) infinite;\n",
              "  }\n",
              "\n",
              "  @keyframes spin {\n",
              "    0% {\n",
              "      border-color: transparent;\n",
              "      border-bottom-color: var(--fill-color);\n",
              "      border-left-color: var(--fill-color);\n",
              "    }\n",
              "    20% {\n",
              "      border-color: transparent;\n",
              "      border-left-color: var(--fill-color);\n",
              "      border-top-color: var(--fill-color);\n",
              "    }\n",
              "    30% {\n",
              "      border-color: transparent;\n",
              "      border-left-color: var(--fill-color);\n",
              "      border-top-color: var(--fill-color);\n",
              "      border-right-color: var(--fill-color);\n",
              "    }\n",
              "    40% {\n",
              "      border-color: transparent;\n",
              "      border-right-color: var(--fill-color);\n",
              "      border-top-color: var(--fill-color);\n",
              "    }\n",
              "    60% {\n",
              "      border-color: transparent;\n",
              "      border-right-color: var(--fill-color);\n",
              "    }\n",
              "    80% {\n",
              "      border-color: transparent;\n",
              "      border-right-color: var(--fill-color);\n",
              "      border-bottom-color: var(--fill-color);\n",
              "    }\n",
              "    90% {\n",
              "      border-color: transparent;\n",
              "      border-bottom-color: var(--fill-color);\n",
              "    }\n",
              "  }\n",
              "</style>\n",
              "\n",
              "  <script>\n",
              "    async function quickchart(key) {\n",
              "      const quickchartButtonEl =\n",
              "        document.querySelector('#' + key + ' button');\n",
              "      quickchartButtonEl.disabled = true;  // To prevent multiple clicks.\n",
              "      quickchartButtonEl.classList.add('colab-df-spinner');\n",
              "      try {\n",
              "        const charts = await google.colab.kernel.invokeFunction(\n",
              "            'suggestCharts', [key], {});\n",
              "      } catch (error) {\n",
              "        console.error('Error during call to suggestCharts:', error);\n",
              "      }\n",
              "      quickchartButtonEl.classList.remove('colab-df-spinner');\n",
              "      quickchartButtonEl.classList.add('colab-df-quickchart-complete');\n",
              "    }\n",
              "    (() => {\n",
              "      let quickchartButtonEl =\n",
              "        document.querySelector('#df-f6b6071e-c86a-405c-b432-d8da8c77c57f button');\n",
              "      quickchartButtonEl.style.display =\n",
              "        google.colab.kernel.accessAllowed ? 'block' : 'none';\n",
              "    })();\n",
              "  </script>\n",
              "</div>\n",
              "    </div>\n",
              "  </div>\n"
            ]
          },
          "metadata": {},
          "execution_count": 21
        }
      ]
    },
    {
      "cell_type": "code",
      "source": [
        "#loop to extract the images and labels and add to lists\n",
        "#where to store the images and the labels from the loaded data\n",
        "image_paths = []\n",
        "labels = []\n",
        "for index, row in data.iterrows():\n",
        "    filename = row['filename']\n",
        "    label = row['label']\n",
        "\n",
        "    #full path to the image\n",
        "    img_path = os.path.join(image_dir, filename)\n",
        "\n",
        "    # Check if the image file exists\n",
        "    if os.path.exists(img_path):\n",
        "        image_paths.append(img_path)\n",
        "        labels.append(label)\n",
        "print(len(labels))\n",
        "print(len(image_paths))"
      ],
      "metadata": {
        "colab": {
          "base_uri": "https://localhost:8080/"
        },
        "id": "qNVDufNW7ie8",
        "outputId": "3779a6ef-6eb8-4271-b365-830a5f08b8be"
      },
      "execution_count": 23,
      "outputs": [
        {
          "output_type": "stream",
          "name": "stdout",
          "text": [
            "135\n",
            "135\n"
          ]
        }
      ]
    },
    {
      "cell_type": "code",
      "source": [
        "# Split the data into training, validation, and test sets.\n",
        "train_files, test_files, train_labels, test_labels = train_test_split(image_paths, labels, test_size=0.2, random_state=42)\n",
        "train_files, val_files, train_labels, val_labels = train_test_split(train_files, train_labels, test_size=0.1, random_state=42)"
      ],
      "metadata": {
        "id": "R7n087_m7ths"
      },
      "execution_count": 24,
      "outputs": []
    },
    {
      "cell_type": "code",
      "source": [
        "# Display the number of samples in each set\n",
        "print(f\"Training samples: {len(train_files)}\")\n",
        "print(f\"Validation samples: {len(val_files)}\")\n",
        "print(f\"Test samples: {len(test_files)}\")"
      ],
      "metadata": {
        "colab": {
          "base_uri": "https://localhost:8080/"
        },
        "id": "nD69vqnE72yV",
        "outputId": "66a577ba-3071-46c7-c7c5-1da917d70cc1"
      },
      "execution_count": 25,
      "outputs": [
        {
          "output_type": "stream",
          "name": "stdout",
          "text": [
            "Training samples: 97\n",
            "Validation samples: 11\n",
            "Test samples: 27\n"
          ]
        }
      ]
    },
    {
      "cell_type": "code",
      "source": [
        "#Function to load and preprocess images\n",
        "def load_and_preprocess_image(file_path, target_size=(224, 224)):\n",
        "    img = cv2.imread(file_path)\n",
        "    img = cv2.cvtColor(img, cv2.COLOR_BGR2RGB)  # Convert BGR to RGB\n",
        "    img = cv2.resize(img, target_size)  # Resize the image to the target size\n",
        "    img = img / 255.0  # Normalize pixel values between 0 and 1\n",
        "    return img"
      ],
      "metadata": {
        "id": "-lPmrR1y-mso"
      },
      "execution_count": 26,
      "outputs": []
    },
    {
      "cell_type": "code",
      "source": [
        "# Example to load and preprocess an image\n",
        "example_img = load_and_preprocess_image(train_files[0])\n",
        "print(f\"Example image shape: {example_img.shape}\")"
      ],
      "metadata": {
        "colab": {
          "base_uri": "https://localhost:8080/"
        },
        "id": "pLoyDI2N-u1O",
        "outputId": "1facc2f8-e737-43f5-ac7e-4ab69a716fdd"
      },
      "execution_count": 27,
      "outputs": [
        {
          "output_type": "stream",
          "name": "stdout",
          "text": [
            "Example image shape: (224, 224, 3)\n"
          ]
        }
      ]
    },
    {
      "cell_type": "markdown",
      "source": [
        "Correct format 224 by 224, RGB"
      ],
      "metadata": {
        "id": "Ml006l4o-16u"
      }
    },
    {
      "cell_type": "code",
      "source": [
        "# Preprocess all images in the training, validation, and test sets\n",
        "X_train = np.array([load_and_preprocess_image(file) for file in train_files])\n",
        "X_val = np.array([load_and_preprocess_image(file) for file in val_files])\n",
        "X_test = np.array([load_and_preprocess_image(file) for file in test_files])"
      ],
      "metadata": {
        "id": "tx6CjtPs-z02"
      },
      "execution_count": 28,
      "outputs": []
    },
    {
      "cell_type": "code",
      "source": [
        "# Convert labels to np arrays\n",
        "y_train = np.array(train_labels)\n",
        "y_val = np.array(val_labels)\n",
        "y_test = np.array(test_labels)"
      ],
      "metadata": {
        "id": "WZryJlsj_Cfe"
      },
      "execution_count": 29,
      "outputs": []
    },
    {
      "cell_type": "code",
      "source": [
        "# We will save the preprocessed data to Drive\n",
        "output_dir = '/content/drive/MyDrive/Projects/colab et al/processed_data/'\n",
        "os.makedirs(output_dir, exist_ok=True)\n",
        "\n",
        "# Save the processed data and labels as .npy files\n",
        "np.save(output_dir + 'X_train.npy', X_train)\n",
        "np.save(output_dir + 'X_val.npy', X_val)\n",
        "np.save(output_dir + 'X_test.npy', X_test)\n",
        "\n",
        "np.save(output_dir + 'y_train.npy', y_train)\n",
        "np.save(output_dir + 'y_val.npy', y_val)\n",
        "np.save(output_dir + 'y_test.npy', y_test)\n"
      ],
      "metadata": {
        "id": "MQvkvE9h_-CN"
      },
      "execution_count": 30,
      "outputs": []
    },
    {
      "cell_type": "markdown",
      "source": [
        "In case we want to load the saved data later on."
      ],
      "metadata": {
        "id": "jFhUd6ceAiY9"
      }
    },
    {
      "cell_type": "code",
      "source": [
        "\"\"\"\n",
        "#To load the processed data from .npy files\n",
        "loaded_X_train = np.load(output_dir + 'X_train.npy')\n",
        "loaded_X_val = np.load(output_dir + 'X_val.npy')\n",
        "loaded_X_test = np.load(output_dir + 'X_test.npy')\n",
        "\n",
        "loaded_y_train = np.load(output_dir + 'y_train.npy')\n",
        "loaded_y_val = np.load(output_dir + 'y_val.npy')\n",
        "loaded_y_test = np.load(output_dir + 'y_test.npy')\n",
        "\"\"\""
      ],
      "metadata": {
        "colab": {
          "base_uri": "https://localhost:8080/",
          "height": 53
        },
        "id": "aMYqX70lAS96",
        "outputId": "caf64429-2149-4eb6-9717-062642d1557f"
      },
      "execution_count": 31,
      "outputs": [
        {
          "output_type": "execute_result",
          "data": {
            "text/plain": [
              "\"\\n#To load the processed data from .npy files\\nloaded_X_train = np.load(output_dir + 'X_train.npy')\\nloaded_X_val = np.load(output_dir + 'X_val.npy')\\nloaded_X_test = np.load(output_dir + 'X_test.npy')\\n\\nloaded_y_train = np.load(output_dir + 'y_train.npy')\\nloaded_y_val = np.load(output_dir + 'y_val.npy')\\nloaded_y_test = np.load(output_dir + 'y_test.npy')\\n\""
            ],
            "application/vnd.google.colaboratory.intrinsic+json": {
              "type": "string"
            }
          },
          "metadata": {},
          "execution_count": 31
        }
      ]
    },
    {
      "cell_type": "markdown",
      "source": [
        "Moving on to training the model after preprocessing the chest xray images"
      ],
      "metadata": {
        "id": "YXw0anO1BIwm"
      }
    },
    {
      "cell_type": "code",
      "source": [
        "# importing the necessary keras modules\n",
        "from tensorflow.keras.models import Sequential\n",
        "from tensorflow.keras.layers import Conv2D, MaxPooling2D, Flatten, Dense, Dropout\n",
        "from tensorflow.keras.optimizers import Adam"
      ],
      "metadata": {
        "id": "eXkuv9N8Aooz"
      },
      "execution_count": 33,
      "outputs": []
    },
    {
      "cell_type": "code",
      "source": [
        "#The CNN\n",
        "model = Sequential()\n",
        "\n",
        "model.add(Conv2D(32, (3, 3), activation='relu', input_shape=(224, 224, 3)))\n",
        "model.add(MaxPooling2D((2, 2)))\n",
        "\n",
        "model.add(Conv2D(64, (3, 3), activation='relu'))\n",
        "model.add(MaxPooling2D((2, 2)))\n",
        "\n",
        "model.add(Conv2D(128, (3, 3), activation='relu'))\n",
        "model.add(MaxPooling2D((2, 2)))\n",
        "\n",
        "model.add(Flatten())\n",
        "\n",
        "model.add(Dense(512, activation='relu'))\n",
        "model.add(Dropout(0.5))\n",
        "\n",
        "model.add(Dense(1, activation='sigmoid'))"
      ],
      "metadata": {
        "id": "etfzHuT8BT2u"
      },
      "execution_count": 34,
      "outputs": []
    },
    {
      "cell_type": "code",
      "source": [
        "model.compile(optimizer=Adam(learning_rate=0.0001), loss='binary_crossentropy', metrics=['accuracy'])"
      ],
      "metadata": {
        "id": "u4mt6FwNBkP3"
      },
      "execution_count": 36,
      "outputs": []
    },
    {
      "cell_type": "code",
      "source": [
        "# Training the model on the images\n",
        "\n",
        "history = model.fit(X_train, y_train, epochs=10, batch_size=32, validation_data=(X_val, y_val))"
      ],
      "metadata": {
        "colab": {
          "base_uri": "https://localhost:8080/"
        },
        "id": "we4KehKbBqae",
        "outputId": "9cd27093-283b-4517-f202-22cb0625c86d"
      },
      "execution_count": 37,
      "outputs": [
        {
          "output_type": "stream",
          "name": "stdout",
          "text": [
            "Epoch 1/10\n",
            "4/4 [==============================] - 17s 3s/step - loss: 0.8127 - accuracy: 0.5258 - val_loss: 0.6948 - val_accuracy: 0.5455\n",
            "Epoch 2/10\n",
            "4/4 [==============================] - 14s 3s/step - loss: 0.6785 - accuracy: 0.5773 - val_loss: 0.7186 - val_accuracy: 0.5455\n",
            "Epoch 3/10\n",
            "4/4 [==============================] - 14s 3s/step - loss: 0.6783 - accuracy: 0.5979 - val_loss: 0.7360 - val_accuracy: 0.5455\n",
            "Epoch 4/10\n",
            "4/4 [==============================] - 12s 3s/step - loss: 0.6627 - accuracy: 0.5979 - val_loss: 0.7168 - val_accuracy: 0.5455\n",
            "Epoch 5/10\n",
            "4/4 [==============================] - 12s 3s/step - loss: 0.6511 - accuracy: 0.6082 - val_loss: 0.6860 - val_accuracy: 0.5455\n",
            "Epoch 6/10\n",
            "4/4 [==============================] - 14s 3s/step - loss: 0.5984 - accuracy: 0.6495 - val_loss: 0.6694 - val_accuracy: 0.5455\n",
            "Epoch 7/10\n",
            "4/4 [==============================] - 14s 3s/step - loss: 0.5919 - accuracy: 0.6907 - val_loss: 0.6686 - val_accuracy: 0.5455\n",
            "Epoch 8/10\n",
            "4/4 [==============================] - 14s 4s/step - loss: 0.6156 - accuracy: 0.6495 - val_loss: 0.6777 - val_accuracy: 0.5455\n",
            "Epoch 9/10\n",
            "4/4 [==============================] - 13s 3s/step - loss: 0.5355 - accuracy: 0.8144 - val_loss: 0.6675 - val_accuracy: 0.5455\n",
            "Epoch 10/10\n",
            "4/4 [==============================] - 12s 3s/step - loss: 0.5653 - accuracy: 0.7010 - val_loss: 0.6613 - val_accuracy: 0.5455\n"
          ]
        }
      ]
    },
    {
      "cell_type": "code",
      "source": [
        "# Evaluate model on the set aside testing data\n",
        "test_loss, test_acc = model.evaluate(X_test, y_test)\n",
        "print(f\"Test Accuracy: {test_acc}\")"
      ],
      "metadata": {
        "colab": {
          "base_uri": "https://localhost:8080/"
        },
        "id": "5FRExYZUB3U3",
        "outputId": "2380d7e8-d39c-48e7-e9e5-d6c73d3a7df9"
      },
      "execution_count": 38,
      "outputs": [
        {
          "output_type": "stream",
          "name": "stdout",
          "text": [
            "1/1 [==============================] - 1s 1s/step - loss: 0.6444 - accuracy: 0.5926\n",
            "Test Accuracy: 0.5925925970077515\n"
          ]
        }
      ]
    },
    {
      "cell_type": "markdown",
      "source": [
        "59.26% accurate. Nowhere near good enough. Next step would be to use pretrained models instead of custom basic ones. Though this one could be improved by fine-tuning hyperparameters or performing transfer learning."
      ],
      "metadata": {
        "id": "QLI-IdekC1kz"
      }
    },
    {
      "cell_type": "code",
      "source": [
        "#saving the weights of the model\n",
        "model_weights_path = '/content/drive/MyDrive/Projects/colab et al/keras_model_weights.h5'\n",
        "model.save_weights(model_weights_path)\n"
      ],
      "metadata": {
        "id": "IBXimBdSCuWq"
      },
      "execution_count": 40,
      "outputs": []
    },
    {
      "cell_type": "code",
      "source": [
        "\"\"\"\n",
        "# To load later on\n",
        "# Define a model with the same architecture\n",
        "model = Sequential()\n",
        "\n",
        "# ... Architecture definition goes here ...\n",
        "\n",
        "# Load\n",
        "model.load_weights('/content/drive/MyDrive/Projects/colab et al/keras_model_weights.h5')\n",
        "\n",
        "\"\"\""
      ],
      "metadata": {
        "colab": {
          "base_uri": "https://localhost:8080/",
          "height": 53
        },
        "id": "gFwCRJqWD0qI",
        "outputId": "7ed205b3-ef70-4ebf-cd8c-cd231a28d674"
      },
      "execution_count": 41,
      "outputs": [
        {
          "output_type": "execute_result",
          "data": {
            "text/plain": [
              "\"\\n# To load later on\\n# Define a model with the same architecture\\nmodel = Sequential()\\n\\n# ... Architecture definition goes here ...\\n\\n# Load\\nmodel.load_weights('/content/drive/MyDrive/Projects/colab et al/keras_model_weights.h5')\\n\\n\""
            ],
            "application/vnd.google.colaboratory.intrinsic+json": {
              "type": "string"
            }
          },
          "metadata": {},
          "execution_count": 41
        }
      ]
    },
    {
      "cell_type": "markdown",
      "source": [
        "We can visualise this with the matplotlib library tools. 📊"
      ],
      "metadata": {
        "id": "Ybm0CMEuEhfa"
      }
    },
    {
      "cell_type": "code",
      "source": [
        "import matplotlib.pyplot as plt\n",
        "\n",
        "plt.plot(history.history['accuracy'], label='Training Accuracy')\n",
        "plt.plot(history.history['val_accuracy'], label='Validation Accuracy')\n",
        "plt.xlabel('Epochs')\n",
        "plt.ylabel('Accuracy')\n",
        "plt.legend()\n",
        "plt.show()\n"
      ],
      "metadata": {
        "colab": {
          "base_uri": "https://localhost:8080/",
          "height": 449
        },
        "id": "DNwXl4pyEYBh",
        "outputId": "e7241473-9891-424c-a445-ac352bf0e7a3"
      },
      "execution_count": 42,
      "outputs": [
        {
          "output_type": "display_data",
          "data": {
            "text/plain": [
              "<Figure size 640x480 with 1 Axes>"
            ],
            "image/png": "[encoded data removed]"
          },
          "metadata": {}
        }
      ]
    },
    {
      "cell_type": "code",
      "source": [
        "plt.plot(history.history['loss'], label='Training Loss')\n",
        "plt.plot(history.history['val_loss'], label='Validation Loss')\n",
        "plt.xlabel('Epochs')\n",
        "plt.ylabel('Loss')\n",
        "plt.legend()\n",
        "plt.show()"
      ],
      "metadata": {
        "colab": {
          "base_uri": "https://localhost:8080/",
          "height": 449
        },
        "id": "iEd9p_8gE2UP",
        "outputId": "458d9117-83cd-4bb7-9892-cfac43520b3d"
      },
      "execution_count": 43,
      "outputs": [
        {
          "output_type": "display_data",
          "data": {
            "text/plain": [
              "<Figure size 640x480 with 1 Axes>"
            ],
            "image/png": "[encoded data removed]"
          },
          "metadata": {}
        }
      ]
    },
    {
      "cell_type": "code",
      "source": [],
      "metadata": {
        "id": "m-60DG_OE9Jw"
      },
      "execution_count": null,
      "outputs": []
    }
  ]
}